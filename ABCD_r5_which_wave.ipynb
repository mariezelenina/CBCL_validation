{
 "cells": [
  {
   "cell_type": "code",
   "execution_count": 3,
   "id": "fdbdbade-9fda-47a0-9c9c-e602dd8726d6",
   "metadata": {},
   "outputs": [],
   "source": [
    "import pandas as pd\n",
    "pd.set_option('max_colwidth', 100)\n",
    "import numpy as np\n",
    "import matplotlib.pyplot as plt\n",
    "from itertools import cycle\n",
    "from sklearn import svm, datasets\n",
    "from sklearn.metrics import roc_curve, auc\n",
    "from sklearn.model_selection import train_test_split\n",
    "from sklearn.preprocessing import label_binarize\n",
    "from sklearn.multiclass import OneVsRestClassifier\n",
    "from sklearn.metrics import roc_auc_score\n",
    "from sklearn.metrics import confusion_matrix\n",
    "import itertools\n",
    "import scipy.stats as st"
   ]
  },
  {
   "cell_type": "code",
   "execution_count": null,
   "id": "8af3891f-86fc-4709-9bc8-5875558ee81f",
   "metadata": {},
   "outputs": [],
   "source": [
    "# looking at what waves exist at YSR, \n",
    "# which of these waves also exist in KSADS,\n",
    "# and which of these waves, existing in both dataframes (or all three), have the max amount of depressed"
   ]
  },
  {
   "cell_type": "markdown",
   "id": "dfe31080-c796-465d-bf6c-7f0928357682",
   "metadata": {},
   "source": [
    "From paper comments:\n",
    "\n",
    "\"The elephant in the room is ignored, which is that CBCL is completed by parents, and there is a self-report version too (YRS). It might partly explain the discrepancy across KSADS informants in the ABCD dataset, which could be tested if the YRS is available. I am aware this would not be preregistered but neither it was the use of self-report KSADS. I am not sure whether there would be enough participants to test it, though.\""
   ]
  },
  {
   "cell_type": "markdown",
   "id": "6d515bea-223d-40e8-bbae-49c5ee63a2f4",
   "metadata": {},
   "source": [
    "From https://wiki.abcdstudy.org/release-notes/non-imaging/mental-health.html:\n",
    "\n",
    "Brief Problem Monitor (ASEBA)\n",
    "Release 5.0 Data Table: mh_y_bpm\n",
    "\n",
    "Measure Description: Normed multi-informant monitoring of children’s functioning. This is the youth self-report. The BPM’s Internalizing (INT), Attention Problems (ATT), Externalizing (EXT), and Total Problems (TOT) scales comprise items from the ASEBA Youth Self-Report (YSR). The items, scales, and norms are based on decades of research and practical experience, as summarized in the BPM Manual (Achenbach, McConaughy, Ivanova, & Rescorla, 2017).\n",
    "\n",
    "ABCD Subdomain: Broad Psychopathology\n",
    "\n",
    "Number of Variables: 48\n",
    "\n",
    "Summary Score(s): Yes\n",
    "\n",
    "Measurement Waves Administered: Annually since the 1-year follow-up\n",
    "\n",
    "Modifications since initial administration: None\n",
    "\n",
    "Notes and special considerations: None\n",
    "\n",
    "Reference: Achenbach, T. M. (2009). The Achenbach System of Empirically Based Assessment (ASEBA): Development, Findings, Theory, and Applications. Burlington, VT: University of Vermont Research Center for Children, Youth, & Families. Find here"
   ]
  },
  {
   "cell_type": "code",
   "execution_count": 14,
   "id": "a098bc25-bd91-47fb-b735-2db984614385",
   "metadata": {},
   "outputs": [],
   "source": [
    "path_to_data = '/Users/zeleninam2/Documents/projects/cbcl_ksads_work/revision_2023/data'\n",
    "path_to_cbcl = path_to_data+'/abcd-data-release-5.1/core/mental-health/mh_p_cbcl.csv'\n",
    "path_to_ysr = path_to_data+'/abcd-data-release-5.1/core/mental-health/mh_y_bpm.csv'\n",
    "path_to_ksads_c = path_to_data+'/abcd-data-release-5.1/core/mental-health/mh_y_ksads_ss.csv'\n",
    "path_to_ksads_p = path_to_data+'/abcd-data-release-5.1/core/mental-health/mh_p_ksads_ss.csv'"
   ]
  },
  {
   "cell_type": "code",
   "execution_count": 5,
   "id": "57ccd6d2-0120-4639-afde-1a9fb5701aba",
   "metadata": {},
   "outputs": [
    {
     "data": {
      "text/html": [
       "<div>\n",
       "<style scoped>\n",
       "    .dataframe tbody tr th:only-of-type {\n",
       "        vertical-align: middle;\n",
       "    }\n",
       "\n",
       "    .dataframe tbody tr th {\n",
       "        vertical-align: top;\n",
       "    }\n",
       "\n",
       "    .dataframe thead th {\n",
       "        text-align: right;\n",
       "    }\n",
       "</style>\n",
       "<table border=\"1\" class=\"dataframe\">\n",
       "  <thead>\n",
       "    <tr style=\"text-align: right;\">\n",
       "      <th></th>\n",
       "      <th>src_subject_id</th>\n",
       "      <th>eventname</th>\n",
       "      <th>bpm_1_y</th>\n",
       "      <th>bpm_2_y</th>\n",
       "      <th>bpm_3_y</th>\n",
       "      <th>bpm_4_y</th>\n",
       "      <th>bpm_5_y</th>\n",
       "      <th>bpm_6_y</th>\n",
       "      <th>bpm_7_y</th>\n",
       "      <th>bpm_8_y</th>\n",
       "      <th>...</th>\n",
       "      <th>bpm_y_ss_external_mean</th>\n",
       "      <th>bpm_y_ss_external_nm</th>\n",
       "      <th>bpm_y_ss_external_nt</th>\n",
       "      <th>bpm_y_scr_totalprob_r</th>\n",
       "      <th>bpm_y_scr_totalprob_t</th>\n",
       "      <th>bpm_y_scr_totalprob_nm</th>\n",
       "      <th>bpm_y_scr_totalprob_nt</th>\n",
       "      <th>bpm_y_ss_totalprob_mean</th>\n",
       "      <th>bpm_y_ss_totalprob_nm</th>\n",
       "      <th>bpm_y_ss_totalprob_nt</th>\n",
       "    </tr>\n",
       "  </thead>\n",
       "  <tbody>\n",
       "    <tr>\n",
       "      <th>0</th>\n",
       "      <td>NDAR_INV003RTV85</td>\n",
       "      <td>6_month_follow_up_arm_1</td>\n",
       "      <td>1.0</td>\n",
       "      <td>1.0</td>\n",
       "      <td>2.0</td>\n",
       "      <td>1.0</td>\n",
       "      <td>0.0</td>\n",
       "      <td>0.0</td>\n",
       "      <td>1.0</td>\n",
       "      <td>0.0</td>\n",
       "      <td>...</td>\n",
       "      <td>0.428571</td>\n",
       "      <td>0.0</td>\n",
       "      <td>7.0</td>\n",
       "      <td>9.0</td>\n",
       "      <td>53.0</td>\n",
       "      <td>0.0</td>\n",
       "      <td>19.0</td>\n",
       "      <td>0.473684</td>\n",
       "      <td>0.0</td>\n",
       "      <td>19.0</td>\n",
       "    </tr>\n",
       "    <tr>\n",
       "      <th>1</th>\n",
       "      <td>NDAR_INV003RTV85</td>\n",
       "      <td>1_year_follow_up_y_arm_1</td>\n",
       "      <td>0.0</td>\n",
       "      <td>0.0</td>\n",
       "      <td>1.0</td>\n",
       "      <td>0.0</td>\n",
       "      <td>0.0</td>\n",
       "      <td>0.0</td>\n",
       "      <td>1.0</td>\n",
       "      <td>0.0</td>\n",
       "      <td>...</td>\n",
       "      <td>0.285714</td>\n",
       "      <td>0.0</td>\n",
       "      <td>7.0</td>\n",
       "      <td>5.0</td>\n",
       "      <td>50.0</td>\n",
       "      <td>0.0</td>\n",
       "      <td>19.0</td>\n",
       "      <td>0.263158</td>\n",
       "      <td>0.0</td>\n",
       "      <td>19.0</td>\n",
       "    </tr>\n",
       "    <tr>\n",
       "      <th>2</th>\n",
       "      <td>NDAR_INV003RTV85</td>\n",
       "      <td>18_month_follow_up_arm_1</td>\n",
       "      <td>1.0</td>\n",
       "      <td>1.0</td>\n",
       "      <td>2.0</td>\n",
       "      <td>1.0</td>\n",
       "      <td>0.0</td>\n",
       "      <td>0.0</td>\n",
       "      <td>0.0</td>\n",
       "      <td>0.0</td>\n",
       "      <td>...</td>\n",
       "      <td>0.285714</td>\n",
       "      <td>0.0</td>\n",
       "      <td>7.0</td>\n",
       "      <td>10.0</td>\n",
       "      <td>55.0</td>\n",
       "      <td>0.0</td>\n",
       "      <td>19.0</td>\n",
       "      <td>0.526316</td>\n",
       "      <td>0.0</td>\n",
       "      <td>19.0</td>\n",
       "    </tr>\n",
       "    <tr>\n",
       "      <th>3</th>\n",
       "      <td>NDAR_INV003RTV85</td>\n",
       "      <td>2_year_follow_up_y_arm_1</td>\n",
       "      <td>0.0</td>\n",
       "      <td>0.0</td>\n",
       "      <td>0.0</td>\n",
       "      <td>0.0</td>\n",
       "      <td>0.0</td>\n",
       "      <td>0.0</td>\n",
       "      <td>0.0</td>\n",
       "      <td>0.0</td>\n",
       "      <td>...</td>\n",
       "      <td>0.000000</td>\n",
       "      <td>0.0</td>\n",
       "      <td>7.0</td>\n",
       "      <td>0.0</td>\n",
       "      <td>50.0</td>\n",
       "      <td>0.0</td>\n",
       "      <td>19.0</td>\n",
       "      <td>0.000000</td>\n",
       "      <td>0.0</td>\n",
       "      <td>19.0</td>\n",
       "    </tr>\n",
       "    <tr>\n",
       "      <th>4</th>\n",
       "      <td>NDAR_INV003RTV85</td>\n",
       "      <td>30_month_follow_up_arm_1</td>\n",
       "      <td>0.0</td>\n",
       "      <td>0.0</td>\n",
       "      <td>1.0</td>\n",
       "      <td>0.0</td>\n",
       "      <td>0.0</td>\n",
       "      <td>0.0</td>\n",
       "      <td>0.0</td>\n",
       "      <td>0.0</td>\n",
       "      <td>...</td>\n",
       "      <td>0.000000</td>\n",
       "      <td>0.0</td>\n",
       "      <td>7.0</td>\n",
       "      <td>1.0</td>\n",
       "      <td>50.0</td>\n",
       "      <td>0.0</td>\n",
       "      <td>19.0</td>\n",
       "      <td>0.052632</td>\n",
       "      <td>0.0</td>\n",
       "      <td>19.0</td>\n",
       "    </tr>\n",
       "  </tbody>\n",
       "</table>\n",
       "<p>5 rows × 50 columns</p>\n",
       "</div>"
      ],
      "text/plain": [
       "     src_subject_id                 eventname  bpm_1_y  bpm_2_y  bpm_3_y  \\\n",
       "0  NDAR_INV003RTV85   6_month_follow_up_arm_1      1.0      1.0      2.0   \n",
       "1  NDAR_INV003RTV85  1_year_follow_up_y_arm_1      0.0      0.0      1.0   \n",
       "2  NDAR_INV003RTV85  18_month_follow_up_arm_1      1.0      1.0      2.0   \n",
       "3  NDAR_INV003RTV85  2_year_follow_up_y_arm_1      0.0      0.0      0.0   \n",
       "4  NDAR_INV003RTV85  30_month_follow_up_arm_1      0.0      0.0      1.0   \n",
       "\n",
       "   bpm_4_y  bpm_5_y  bpm_6_y  bpm_7_y  bpm_8_y  ...  bpm_y_ss_external_mean  \\\n",
       "0      1.0      0.0      0.0      1.0      0.0  ...                0.428571   \n",
       "1      0.0      0.0      0.0      1.0      0.0  ...                0.285714   \n",
       "2      1.0      0.0      0.0      0.0      0.0  ...                0.285714   \n",
       "3      0.0      0.0      0.0      0.0      0.0  ...                0.000000   \n",
       "4      0.0      0.0      0.0      0.0      0.0  ...                0.000000   \n",
       "\n",
       "   bpm_y_ss_external_nm  bpm_y_ss_external_nt  bpm_y_scr_totalprob_r  \\\n",
       "0                   0.0                   7.0                    9.0   \n",
       "1                   0.0                   7.0                    5.0   \n",
       "2                   0.0                   7.0                   10.0   \n",
       "3                   0.0                   7.0                    0.0   \n",
       "4                   0.0                   7.0                    1.0   \n",
       "\n",
       "   bpm_y_scr_totalprob_t  bpm_y_scr_totalprob_nm  bpm_y_scr_totalprob_nt  \\\n",
       "0                   53.0                     0.0                    19.0   \n",
       "1                   50.0                     0.0                    19.0   \n",
       "2                   55.0                     0.0                    19.0   \n",
       "3                   50.0                     0.0                    19.0   \n",
       "4                   50.0                     0.0                    19.0   \n",
       "\n",
       "   bpm_y_ss_totalprob_mean  bpm_y_ss_totalprob_nm  bpm_y_ss_totalprob_nt  \n",
       "0                 0.473684                    0.0                   19.0  \n",
       "1                 0.263158                    0.0                   19.0  \n",
       "2                 0.526316                    0.0                   19.0  \n",
       "3                 0.000000                    0.0                   19.0  \n",
       "4                 0.052632                    0.0                   19.0  \n",
       "\n",
       "[5 rows x 50 columns]"
      ]
     },
     "execution_count": 5,
     "metadata": {},
     "output_type": "execute_result"
    }
   ],
   "source": [
    "ysr_data = pd.read_csv(path_to_ysr, sep=',', header=0, low_memory=False)\n",
    "ysr_data.head()"
   ]
  },
  {
   "cell_type": "markdown",
   "id": "305c0fb9-dccf-4c89-9c38-4892389d73d7",
   "metadata": {},
   "source": [
    "I'm assuming we either need Internal-Raw score or Internal-T score (bpm_y_scr_internal_r or bpm_y_scr_internal_t)\n",
    "\n",
    "Checking sample size"
   ]
  },
  {
   "cell_type": "code",
   "execution_count": 6,
   "id": "7c181070-6859-4112-9d18-b26ed2c6f8ef",
   "metadata": {},
   "outputs": [
    {
     "data": {
      "text/html": [
       "<div>\n",
       "<style scoped>\n",
       "    .dataframe tbody tr th:only-of-type {\n",
       "        vertical-align: middle;\n",
       "    }\n",
       "\n",
       "    .dataframe tbody tr th {\n",
       "        vertical-align: top;\n",
       "    }\n",
       "\n",
       "    .dataframe thead th {\n",
       "        text-align: right;\n",
       "    }\n",
       "</style>\n",
       "<table border=\"1\" class=\"dataframe\">\n",
       "  <thead>\n",
       "    <tr style=\"text-align: right;\">\n",
       "      <th></th>\n",
       "      <th>src_subject_id</th>\n",
       "      <th>eventname</th>\n",
       "      <th>bpm_1_y</th>\n",
       "      <th>bpm_2_y</th>\n",
       "      <th>bpm_3_y</th>\n",
       "      <th>bpm_4_y</th>\n",
       "      <th>bpm_5_y</th>\n",
       "      <th>bpm_6_y</th>\n",
       "      <th>bpm_7_y</th>\n",
       "      <th>bpm_8_y</th>\n",
       "      <th>...</th>\n",
       "      <th>bpm_y_ss_external_mean</th>\n",
       "      <th>bpm_y_ss_external_nm</th>\n",
       "      <th>bpm_y_ss_external_nt</th>\n",
       "      <th>bpm_y_scr_totalprob_r</th>\n",
       "      <th>bpm_y_scr_totalprob_t</th>\n",
       "      <th>bpm_y_scr_totalprob_nm</th>\n",
       "      <th>bpm_y_scr_totalprob_nt</th>\n",
       "      <th>bpm_y_ss_totalprob_mean</th>\n",
       "      <th>bpm_y_ss_totalprob_nm</th>\n",
       "      <th>bpm_y_ss_totalprob_nt</th>\n",
       "    </tr>\n",
       "  </thead>\n",
       "  <tbody>\n",
       "  </tbody>\n",
       "</table>\n",
       "<p>0 rows × 50 columns</p>\n",
       "</div>"
      ],
      "text/plain": [
       "Empty DataFrame\n",
       "Columns: [src_subject_id, eventname, bpm_1_y, bpm_2_y, bpm_3_y, bpm_4_y, bpm_5_y, bpm_6_y, bpm_7_y, bpm_8_y, bpm_9_y, bpm_10_y, bpm_11_y, bpm_12_y, bpm_13_y, bpm_14_y, bpm_15_y, bpm_16_y, bpm_17_y, bpm_18_y, bpm_19_y, bpm_admin, bpm_y_scr_attention_r, bpm_y_scr_attention_t, bpm_y_scr_attention_nm, bpm_y_scr_attention_nt, bpm_y_ss_attention_mean, bpm_y_ss_attention_nm, bpm_y_ss_attention_nt, bpm_y_scr_internal_r, bpm_y_scr_internal_t, bpm_y_scr_internal_nm, bpm_y_scr_internal_nt, bpm_y_ss_internal_mean, bpm_y_ss_internal_nm, bpm_y_ss_internal_nt, bpm_y_scr_external_r, bpm_y_scr_external_t, bpm_y_scr_external_nm, bpm_y_scr_external_nt, bpm_y_ss_external_mean, bpm_y_ss_external_nm, bpm_y_ss_external_nt, bpm_y_scr_totalprob_r, bpm_y_scr_totalprob_t, bpm_y_scr_totalprob_nm, bpm_y_scr_totalprob_nt, bpm_y_ss_totalprob_mean, bpm_y_ss_totalprob_nm, bpm_y_ss_totalprob_nt]\n",
       "Index: []\n",
       "\n",
       "[0 rows x 50 columns]"
      ]
     },
     "execution_count": 6,
     "metadata": {},
     "output_type": "execute_result"
    }
   ],
   "source": [
    "ysr_data_bsl = ysr_data.loc[ysr_data.eventname == 'baseline_year_1_arm_1'].copy()\n",
    "ysr_data_bsl.head()"
   ]
  },
  {
   "cell_type": "code",
   "execution_count": 7,
   "id": "eb2ac020-b453-4f0d-9ad8-f88fe1bad6f7",
   "metadata": {},
   "outputs": [
    {
     "data": {
      "text/plain": [
       "eventname\n",
       "6_month_follow_up_arm_1     11389\n",
       "1_year_follow_up_y_arm_1    11220\n",
       "18_month_follow_up_arm_1    11084\n",
       "2_year_follow_up_y_arm_1    10973\n",
       "3_year_follow_up_y_arm_1    10336\n",
       "30_month_follow_up_arm_1    10256\n",
       "42_month_follow_up_arm_1     8566\n",
       "4_year_follow_up_y_arm_1     4754\n",
       "Name: count, dtype: int64"
      ]
     },
     "execution_count": 7,
     "metadata": {},
     "output_type": "execute_result"
    }
   ],
   "source": [
    "ysr_data.eventname.value_counts()"
   ]
  },
  {
   "cell_type": "code",
   "execution_count": 9,
   "id": "aafb3850-9a6b-445b-bed2-b2932a93e2ff",
   "metadata": {},
   "outputs": [
    {
     "name": "stdout",
     "output_type": "stream",
     "text": [
      "src_subject_id\n",
      "eventname\n",
      "bpm_1_y\n",
      "bpm_2_y\n",
      "bpm_3_y\n",
      "bpm_4_y\n",
      "bpm_5_y\n",
      "bpm_6_y\n",
      "bpm_7_y\n",
      "bpm_8_y\n",
      "bpm_9_y\n",
      "bpm_10_y\n",
      "bpm_11_y\n",
      "bpm_12_y\n",
      "bpm_13_y\n",
      "bpm_14_y\n",
      "bpm_15_y\n",
      "bpm_16_y\n",
      "bpm_17_y\n",
      "bpm_18_y\n",
      "bpm_19_y\n",
      "bpm_admin\n",
      "bpm_y_scr_attention_r\n",
      "bpm_y_scr_attention_t\n",
      "bpm_y_scr_attention_nm\n",
      "bpm_y_scr_attention_nt\n",
      "bpm_y_ss_attention_mean\n",
      "bpm_y_ss_attention_nm\n",
      "bpm_y_ss_attention_nt\n",
      "bpm_y_scr_internal_r\n",
      "bpm_y_scr_internal_t\n",
      "bpm_y_scr_internal_nm\n",
      "bpm_y_scr_internal_nt\n",
      "bpm_y_ss_internal_mean\n",
      "bpm_y_ss_internal_nm\n",
      "bpm_y_ss_internal_nt\n",
      "bpm_y_scr_external_r\n",
      "bpm_y_scr_external_t\n",
      "bpm_y_scr_external_nm\n",
      "bpm_y_scr_external_nt\n",
      "bpm_y_ss_external_mean\n",
      "bpm_y_ss_external_nm\n",
      "bpm_y_ss_external_nt\n",
      "bpm_y_scr_totalprob_r\n",
      "bpm_y_scr_totalprob_t\n",
      "bpm_y_scr_totalprob_nm\n",
      "bpm_y_scr_totalprob_nt\n",
      "bpm_y_ss_totalprob_mean\n",
      "bpm_y_ss_totalprob_nm\n",
      "bpm_y_ss_totalprob_nt\n"
     ]
    }
   ],
   "source": [
    "# internalizing problems\n",
    "for c in ysr_data.columns:\n",
    "    print(c)"
   ]
  },
  {
   "cell_type": "code",
   "execution_count": 10,
   "id": "2ab7be9f-c8ec-4c19-8fbf-0b9f18f76a4e",
   "metadata": {},
   "outputs": [
    {
     "data": {
      "text/plain": [
       "bpm_y_scr_internal_r\n",
       "0.0     25731\n",
       "1.0     14180\n",
       "2.0      9993\n",
       "3.0      6533\n",
       "4.0      4497\n",
       "5.0      2813\n",
       "6.0      2101\n",
       "7.0      1265\n",
       "8.0       815\n",
       "9.0       546\n",
       "10.0      353\n",
       "11.0      195\n",
       "12.0      135\n",
       "Name: count, dtype: int64"
      ]
     },
     "execution_count": 10,
     "metadata": {},
     "output_type": "execute_result"
    }
   ],
   "source": [
    "ysr_data.bpm_y_scr_internal_r.value_counts()"
   ]
  },
  {
   "cell_type": "code",
   "execution_count": 11,
   "id": "caae6649-c60d-475e-9db8-bb15811a0bf1",
   "metadata": {},
   "outputs": [
    {
     "data": {
      "text/plain": [
       "eventname\n",
       "6_month_follow_up_arm_1     11389\n",
       "1_year_follow_up_y_arm_1    11220\n",
       "18_month_follow_up_arm_1    11084\n",
       "2_year_follow_up_y_arm_1    10973\n",
       "3_year_follow_up_y_arm_1    10336\n",
       "30_month_follow_up_arm_1    10256\n",
       "42_month_follow_up_arm_1     8566\n",
       "4_year_follow_up_y_arm_1     4754\n",
       "Name: count, dtype: int64"
      ]
     },
     "execution_count": 11,
     "metadata": {},
     "output_type": "execute_result"
    }
   ],
   "source": [
    "ysr_data.eventname.value_counts()"
   ]
  },
  {
   "cell_type": "markdown",
   "id": "cff46d48-5438-4522-9450-1c512c139c2e",
   "metadata": {},
   "source": [
    "eventname\n",
    "6_month_follow_up_arm_1     11389 <br>\n",
    "1_year_follow_up_y_arm_1    11220 <br>\n",
    "18_month_follow_up_arm_1    11084 <br>\n",
    "2_year_follow_up_y_arm_1    10973 <br>\n",
    "3_year_follow_up_y_arm_1    10336 <br>\n",
    "30_month_follow_up_arm_1    10256 <br>\n",
    "42_month_follow_up_arm_1     8566 <br>\n",
    "4_year_follow_up_y_arm_1     4754"
   ]
  },
  {
   "cell_type": "code",
   "execution_count": 15,
   "id": "73e77d1b-556e-4c0c-a400-4fb20b4615e8",
   "metadata": {},
   "outputs": [],
   "source": [
    "ksads_data_c = pd.read_csv(path_to_ksads_c, sep=',', header=0, low_memory=False)\n",
    "ksads_data_p = pd.read_csv(path_to_ksads_p, sep=',', header=0, low_memory=False)"
   ]
  },
  {
   "cell_type": "code",
   "execution_count": 16,
   "id": "e1402010-d011-4a6c-a084-5d31c9ebee2d",
   "metadata": {},
   "outputs": [
    {
     "data": {
      "text/plain": [
       "eventname\n",
       "baseline_year_1_arm_1       11812\n",
       "1_year_follow_up_y_arm_1    11095\n",
       "2_year_follow_up_y_arm_1    10883\n",
       "3_year_follow_up_y_arm_1    10326\n",
       "4_year_follow_up_y_arm_1     4674\n",
       "Name: count, dtype: int64"
      ]
     },
     "execution_count": 16,
     "metadata": {},
     "output_type": "execute_result"
    }
   ],
   "source": [
    "ksads_data_c.eventname.value_counts()"
   ]
  },
  {
   "cell_type": "code",
   "execution_count": 17,
   "id": "749ee1d7-3387-4470-bc50-c96d568a75f4",
   "metadata": {},
   "outputs": [
    {
     "data": {
      "text/plain": [
       "eventname\n",
       "baseline_year_1_arm_1       11747\n",
       "1_year_follow_up_y_arm_1    11103\n",
       "2_year_follow_up_y_arm_1    10756\n",
       "3_year_follow_up_y_arm_1    10330\n",
       "4_year_follow_up_y_arm_1     4754\n",
       "Name: count, dtype: int64"
      ]
     },
     "execution_count": 17,
     "metadata": {},
     "output_type": "execute_result"
    }
   ],
   "source": [
    "ksads_data_p.eventname.value_counts()"
   ]
  },
  {
   "cell_type": "markdown",
   "id": "b891ddd1-e6c4-4725-a901-e51cde846348",
   "metadata": {},
   "source": [
    "Only 1, 2, 3, and 4 year follow-ups exist in both YSR and KSADS\n",
    "Let's see how many depressed kids there are in each wave (intuitively 1 yr follow-up should have most becaus eit has most data)"
   ]
  },
  {
   "cell_type": "code",
   "execution_count": 36,
   "id": "edffe35f-82fd-4018-b0fd-99a2cdf08a90",
   "metadata": {},
   "outputs": [],
   "source": [
    "def count_depressed_in_ksads(ksads_dat, reporter, wave):\n",
    "    print('\\n WAVE: %s' % wave)\n",
    "    ksads_data_wave = ksads_dat.loc[ksads_dat.eventname == wave].copy()\n",
    "    if reporter == 'child':\n",
    "        depression_column_list = [f'ksads_1_{x}_t' for x in [840, 841, 843, 844, 846]]\n",
    "    elif reporter == 'parent':\n",
    "        depression_column_list = [f'ksads_1_{x}_p' for x in [840, 841, 843, 844, 846]]\n",
    "    col_list = ['src_subject_id']\n",
    "    col_list += depression_column_list\n",
    "    ksads_data_wave = ksads_data_wave.loc[:, col_list] \n",
    "    # change types to float so I can work with them \n",
    "    ksads_data_wave = ksads_data_wave.set_index('src_subject_id')\n",
    "    ksads_data_wave = ksads_data_wave.astype(float)\n",
    "    #print(ksads_data_wave.head())\n",
    "    ksads_data_wave[ksads_data_wave > 1.0] = np.nan\n",
    "    ksads_data_wave = ksads_data_wave.dropna()\n",
    "    ksads_data_wave = (ksads_data_wave.sum(1)).astype(int)\n",
    "    ksads_data_wave = pd.DataFrame(ksads_data_wave).rename(columns = {0:'ksads_dep_binary'})\n",
    "    #print(ksads_data_wave.head())\n",
    "    print('shape: %d' % ksads_data_wave.shape[0])\n",
    "    depressed = ksads_data_wave.sum(0)\n",
    "    print('depressed: %d' % depressed)"
   ]
  },
  {
   "cell_type": "code",
   "execution_count": 38,
   "id": "d70b2bdf-08ce-49f0-94db-b31691ce9f46",
   "metadata": {},
   "outputs": [
    {
     "name": "stdout",
     "output_type": "stream",
     "text": [
      "\n",
      " WAVE: baseline_year_1_arm_1\n",
      "shape: 11808\n",
      "depressed: 120\n",
      "\n",
      " WAVE: 1_year_follow_up_y_arm_1\n",
      "shape: 0\n",
      "depressed: 0\n",
      "\n",
      " WAVE: 2_year_follow_up_y_arm_1\n"
     ]
    },
    {
     "name": "stderr",
     "output_type": "stream",
     "text": [
      "/var/folders/7l/34y2s3yx5q77_c0h8j6s32gc0000gs/T/ipykernel_72873/2360838387.py:22: FutureWarning: Calling int on a single element Series is deprecated and will raise a TypeError in the future. Use int(ser.iloc[0]) instead\n",
      "  print('depressed: %d' % depressed)\n",
      "/var/folders/7l/34y2s3yx5q77_c0h8j6s32gc0000gs/T/ipykernel_72873/2360838387.py:22: FutureWarning: Calling int on a single element Series is deprecated and will raise a TypeError in the future. Use int(ser.iloc[0]) instead\n",
      "  print('depressed: %d' % depressed)\n",
      "/var/folders/7l/34y2s3yx5q77_c0h8j6s32gc0000gs/T/ipykernel_72873/2360838387.py:22: FutureWarning: Calling int on a single element Series is deprecated and will raise a TypeError in the future. Use int(ser.iloc[0]) instead\n",
      "  print('depressed: %d' % depressed)\n"
     ]
    },
    {
     "name": "stdout",
     "output_type": "stream",
     "text": [
      "shape: 10871\n",
      "depressed: 97\n",
      "\n",
      " WAVE: 3_year_follow_up_y_arm_1\n",
      "shape: 3\n",
      "depressed: 0\n",
      "\n",
      " WAVE: 4_year_follow_up_y_arm_1\n",
      "shape: 0\n",
      "depressed: 0\n"
     ]
    },
    {
     "name": "stderr",
     "output_type": "stream",
     "text": [
      "/var/folders/7l/34y2s3yx5q77_c0h8j6s32gc0000gs/T/ipykernel_72873/2360838387.py:22: FutureWarning: Calling int on a single element Series is deprecated and will raise a TypeError in the future. Use int(ser.iloc[0]) instead\n",
      "  print('depressed: %d' % depressed)\n",
      "/var/folders/7l/34y2s3yx5q77_c0h8j6s32gc0000gs/T/ipykernel_72873/2360838387.py:22: FutureWarning: Calling int on a single element Series is deprecated and will raise a TypeError in the future. Use int(ser.iloc[0]) instead\n",
      "  print('depressed: %d' % depressed)\n"
     ]
    }
   ],
   "source": [
    "# child-report ksads\n",
    "\n",
    "for wave in ['baseline_year_1_arm_1', '1_year_follow_up_y_arm_1', '2_year_follow_up_y_arm_1', '3_year_follow_up_y_arm_1', '4_year_follow_up_y_arm_1']:\n",
    "    count_depressed_in_ksads(ksads_data_c, 'child', wave)"
   ]
  },
  {
   "cell_type": "markdown",
   "id": "96ba4688-c6b0-4fd8-85b9-be86aff5cd1c",
   "metadata": {},
   "source": [
    "I checked and these weird numbers are correct. The data is basicalle all NaN, except for the 2 year follow up."
   ]
  },
  {
   "cell_type": "code",
   "execution_count": 39,
   "id": "0b68bca9-1f8a-4461-8767-dedd2df40663",
   "metadata": {},
   "outputs": [
    {
     "name": "stdout",
     "output_type": "stream",
     "text": [
      "\n",
      " WAVE: baseline_year_1_arm_1\n",
      "shape: 11726\n",
      "depressed: 56\n",
      "\n",
      " WAVE: 1_year_follow_up_y_arm_1\n",
      "shape: 0\n",
      "depressed: 0\n",
      "\n",
      " WAVE: 2_year_follow_up_y_arm_1\n"
     ]
    },
    {
     "name": "stderr",
     "output_type": "stream",
     "text": [
      "/var/folders/7l/34y2s3yx5q77_c0h8j6s32gc0000gs/T/ipykernel_72873/2360838387.py:22: FutureWarning: Calling int on a single element Series is deprecated and will raise a TypeError in the future. Use int(ser.iloc[0]) instead\n",
      "  print('depressed: %d' % depressed)\n",
      "/var/folders/7l/34y2s3yx5q77_c0h8j6s32gc0000gs/T/ipykernel_72873/2360838387.py:22: FutureWarning: Calling int on a single element Series is deprecated and will raise a TypeError in the future. Use int(ser.iloc[0]) instead\n",
      "  print('depressed: %d' % depressed)\n",
      "/var/folders/7l/34y2s3yx5q77_c0h8j6s32gc0000gs/T/ipykernel_72873/2360838387.py:22: FutureWarning: Calling int on a single element Series is deprecated and will raise a TypeError in the future. Use int(ser.iloc[0]) instead\n",
      "  print('depressed: %d' % depressed)\n"
     ]
    },
    {
     "name": "stdout",
     "output_type": "stream",
     "text": [
      "shape: 10752\n",
      "depressed: 85\n",
      "\n",
      " WAVE: 3_year_follow_up_y_arm_1\n",
      "shape: 1\n",
      "depressed: 0\n",
      "\n",
      " WAVE: 4_year_follow_up_y_arm_1\n",
      "shape: 0\n",
      "depressed: 0\n"
     ]
    },
    {
     "name": "stderr",
     "output_type": "stream",
     "text": [
      "/var/folders/7l/34y2s3yx5q77_c0h8j6s32gc0000gs/T/ipykernel_72873/2360838387.py:22: FutureWarning: Calling int on a single element Series is deprecated and will raise a TypeError in the future. Use int(ser.iloc[0]) instead\n",
      "  print('depressed: %d' % depressed)\n",
      "/var/folders/7l/34y2s3yx5q77_c0h8j6s32gc0000gs/T/ipykernel_72873/2360838387.py:22: FutureWarning: Calling int on a single element Series is deprecated and will raise a TypeError in the future. Use int(ser.iloc[0]) instead\n",
      "  print('depressed: %d' % depressed)\n"
     ]
    }
   ],
   "source": [
    "# parent-report ksads\n",
    "\n",
    "for wave in ['baseline_year_1_arm_1', '1_year_follow_up_y_arm_1', '2_year_follow_up_y_arm_1', '3_year_follow_up_y_arm_1', '4_year_follow_up_y_arm_1']:\n",
    "    count_depressed_in_ksads(ksads_data_p, 'parent', wave)"
   ]
  },
  {
   "cell_type": "code",
   "execution_count": null,
   "id": "40e12430-a31e-4437-9b20-d56def837a65",
   "metadata": {},
   "outputs": [],
   "source": []
  }
 ],
 "metadata": {
  "kernelspec": {
   "display_name": "Python 3 (ipykernel)",
   "language": "python",
   "name": "python3"
  },
  "language_info": {
   "codemirror_mode": {
    "name": "ipython",
    "version": 3
   },
   "file_extension": ".py",
   "mimetype": "text/x-python",
   "name": "python",
   "nbconvert_exporter": "python",
   "pygments_lexer": "ipython3",
   "version": "3.9.6"
  }
 },
 "nbformat": 4,
 "nbformat_minor": 5
}
