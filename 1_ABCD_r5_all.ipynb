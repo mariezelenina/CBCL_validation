{
 "cells": [
  {
   "cell_type": "code",
   "execution_count": 16,
   "id": "55037365-94ca-43cb-a854-f96ababf9954",
   "metadata": {},
   "outputs": [],
   "source": [
    "import pandas as pd\n",
    "pd.set_option('max_colwidth', 100)\n",
    "import numpy as np\n",
    "import matplotlib.pyplot as plt\n",
    "from itertools import cycle\n",
    "from sklearn import svm, datasets\n",
    "from sklearn.metrics import roc_curve, auc\n",
    "from sklearn.model_selection import train_test_split\n",
    "from sklearn.preprocessing import label_binarize\n",
    "from sklearn.multiclass import OneVsRestClassifier\n",
    "from sklearn.metrics import roc_auc_score\n",
    "from sklearn.metrics import confusion_matrix\n",
    "import itertools\n",
    "import scipy.stats as st"
   ]
  },
  {
   "cell_type": "code",
   "execution_count": 17,
   "id": "aea14d3d-9ade-477f-8236-ac90c85f45ad",
   "metadata": {},
   "outputs": [],
   "source": [
    "path_to_data = '/Users/zeleninam2/Documents/projects/cbcl_ksads_work/revision_2023/data'"
   ]
  },
  {
   "cell_type": "code",
   "execution_count": 22,
   "id": "ef06d188-e9ba-46a8-830f-b5377f7208b9",
   "metadata": {},
   "outputs": [],
   "source": [
    "# FUNCTION TO LOAD KSADS DATA, WHICH WE USE FOR _ALL_ ANALYSES\n",
    "\n",
    "def load_ksads(path_to_mydata, reporter):\n",
    "    assert reporter in ['parent','child'], \"wrong reporter\" # reporter has to be either parent or child\n",
    "    # Load baseline data\n",
    "    if reporter == 'child':\n",
    "        path_to_ksads_data = path_to_mydata+'/abcd-data-release-5.1/core/mental-health/mh_y_ksads_ss.csv'\n",
    "    elif reporter == 'parent':\n",
    "        path_to_ksads_data = path_to_mydata+'/abcd-data-release-5.1/core/mental-health/mh_p_ksads_ss.csv'\n",
    "    ksads_data = pd.read_csv(path_to_ksads_data, sep=',', header=0, low_memory=False)\n",
    "    # Select only baseline rows\n",
    "    ksads_data_bsl = ksads_data.loc[ksads_data.eventname == 'baseline_year_1_arm_1'].copy()\n",
    "    # check dimensions of the dataset\n",
    "    print('shape at loading, baseline only')\n",
    "    print(ksads_data_bsl.shape)\n",
    "    # ksads - only leave columns with name id and depression diagnoses\n",
    "    if reporter == 'child':\n",
    "        depression_column_list = [f'ksads_1_{x}_t' for x in [840, 841, 843, 844, 846]]\n",
    "    elif reporter == 'parent':\n",
    "        depression_column_list = [f'ksads_1_{x}_p' for x in [840, 841, 843, 844, 846]]\n",
    "    col_list = ['src_subject_id']\n",
    "    col_list += depression_column_list\n",
    "    ksads_bsl_id_alldep = ksads_data_bsl.loc[:, col_list]\n",
    "    # ksads_dict_data = ksads_bsl_id_alldep.to_dict('records') # do we need this?\n",
    "    # change types to float so I can work with them \n",
    "    ksads_bsl_id_alldep = ksads_bsl_id_alldep.set_index('src_subject_id')\n",
    "    ksads_bsl_id_alldep = ksads_bsl_id_alldep.astype(float)\n",
    "    # work with missing values (could be encoded as 555 or 888)\n",
    "    ksads_bsl_id_alldep[ksads_bsl_id_alldep > 1.0] = np.nan\n",
    "    # ???\n",
    "    nnans = ksads_bsl_id_alldep.isnull().sum(1)\n",
    "    bad_ids = nnans[nnans > 1].index\n",
    "    good_ids = nnans[nnans == 0].index\n",
    "    ksads_dat = (ksads_bsl_id_alldep.loc[good_ids].sum(1) > 0).astype(int)\n",
    "    print('good id sum')\n",
    "    print(ksads_dat.sum())\n",
    "    # this is just renaming the sum depression columns\n",
    "    ksads_bsl_id_dep = pd.DataFrame(ksads_dat).rename(columns = {0:'ksads_dep_binary'})\n",
    "    print('final number of subjects overall')\n",
    "    print(ksads_bsl_id_dep.shape[0])\n",
    "    return ksads_bsl_id_dep\n",
    "\n",
    "# FUNCTION TO LOAD CBCL DATA\n",
    "\n",
    "def load_cbcl(path_to_mydata):\n",
    "    path_to_cbcl = path_to_data+'/abcd-data-release-5.1/core/mental-health/mh_p_cbcl.csv'\n",
    "    cbcl_data = pd.read_csv(path_to_cbcl, sep=',', header=0, low_memory=False)\n",
    "    cbcl_data_bsl = cbcl_data.loc[cbcl_data.eventname == 'baseline_year_1_arm_1'].copy()\n",
    "    print('cbcl shape at loading, baseline only')\n",
    "    print(cbcl_data_bsl.shape)\n",
    "    # only leave columns with id and depression diagnosis\n",
    "    # use RAW SCORE for depresison diagnosis, previously used cbcl_scr_dsm5_depress_t\n",
    "    col_list_cbcl = ['src_subject_id', 'cbcl_scr_dsm5_depress_r']\n",
    "    cbcl_bsl_id_dep = cbcl_data_bsl.loc[:, col_list_cbcl]\n",
    "    cbcl_bsl_id_dep = cbcl_bsl_id_dep.set_index('src_subject_id')\n",
    "    return cbcl_bsl_id_dep"
   ]
  },
  {
   "cell_type": "code",
   "execution_count": 23,
   "id": "5e5e06dc-a578-4eec-8fda-72e5c240ebb6",
   "metadata": {},
   "outputs": [
    {
     "name": "stdout",
     "output_type": "stream",
     "text": [
      "shape at loading, baseline only\n",
      "(11812, 1912)\n",
      "good id sum\n",
      "119\n",
      "final number of subjects overall\n",
      "11808\n"
     ]
    }
   ],
   "source": [
    "data_ksads_child = load_ksads(path_to_data, reporter = 'child')"
   ]
  },
  {
   "cell_type": "code",
   "execution_count": 24,
   "id": "a92cc6a5-9075-432d-80a3-00c2659ec3a4",
   "metadata": {},
   "outputs": [
    {
     "name": "stdout",
     "output_type": "stream",
     "text": [
      "shape at loading, baseline only\n",
      "(11747, 1911)\n",
      "good id sum\n",
      "54\n",
      "final number of subjects overall\n",
      "11726\n"
     ]
    }
   ],
   "source": [
    "data_ksads_parent = load_ksads(path_to_data, reporter = 'parent')"
   ]
  },
  {
   "cell_type": "code",
   "execution_count": null,
   "id": "ec9ee8fe-235c-46df-b4f9-a0012d9be2ed",
   "metadata": {},
   "outputs": [],
   "source": [
    "path_to_cbcl = path_to_data+'/abcd-data-release-5.1/core/mental-health/mh_p_cbcl.csv'"
   ]
  }
 ],
 "metadata": {
  "kernelspec": {
   "display_name": "Python 3 (ipykernel)",
   "language": "python",
   "name": "python3"
  },
  "language_info": {
   "codemirror_mode": {
    "name": "ipython",
    "version": 3
   },
   "file_extension": ".py",
   "mimetype": "text/x-python",
   "name": "python",
   "nbconvert_exporter": "python",
   "pygments_lexer": "ipython3",
   "version": "3.9.6"
  }
 },
 "nbformat": 4,
 "nbformat_minor": 5
}
