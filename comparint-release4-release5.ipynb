{
 "cells": [
  {
   "cell_type": "code",
   "execution_count": 6,
   "id": "ac1388eb",
   "metadata": {},
   "outputs": [],
   "source": [
    "import pandas as pd\n",
    "pd.set_option('max_colwidth', 100)\n",
    "import numpy as np\n",
    "import matplotlib.pyplot as plt\n",
    "from itertools import cycle\n",
    "from sklearn import svm, datasets\n",
    "from sklearn.metrics import roc_curve, auc\n",
    "from sklearn.model_selection import train_test_split\n",
    "from sklearn.preprocessing import label_binarize\n",
    "from sklearn.multiclass import OneVsRestClassifier\n",
    "from sklearn.metrics import roc_auc_score\n",
    "from sklearn.metrics import confusion_matrix\n",
    "import itertools\n",
    "import scipy.stats as st"
   ]
  },
  {
   "cell_type": "code",
   "execution_count": 82,
   "id": "9d519644",
   "metadata": {},
   "outputs": [],
   "source": [
    "path_to_data = '/Users/zeleninam2/Documents/projects/cbcl_ksads_work/revision_2023/data'\n",
    "path_to_ksads5_child = path_to_data+'/abcd-data-release-5.0/core/mental-health/mh_y_ksads_ss.csv' \n",
    "path_to_ksads4_child = path_to_data+'/abcd-data-release-4/abcd_ksad501.txt'\n",
    "path_to_ksads3_child = path_to_data+'/abcd-data-release-3/abcd_ksad501.txt'\n",
    "\n",
    "path_to_ksads5_parent = path_to_data+'/abcd-data-release-5.0/core/mental-health/mh_p_ksads_ss.csv' \n",
    "path_to_ksads4_parent = path_to_data+'/abcd-data-release-4/abcd_ksad01.txt'\n",
    "path_to_ksads3_parent = path_to_data+'/abcd-data-release-3/abcd_ksad01.txt'\n",
    "\n",
    "depression_column_list = [f'ksads_1_{x}_t' for x in [840, 841, 843, 844, 846]]\n",
    "\n",
    "# first observation - besides the diagnoses in depression_column_list \n",
    "# (which is identical to the list of diagnosis in release 3),\n",
    "# release 5 has some \"ksads2\" diagnoses \n",
    "# they seem to be coming from another table from the previous releases \n",
    "# the table used to be called ksads2_daic_use_only_01\n",
    "# I think DAIC stands for Distress Analysis Interview Corpus, and this is some other data we are not using\n",
    "# in any case, these ksads2 diagnoses are not new "
   ]
  },
  {
   "cell_type": "code",
   "execution_count": 90,
   "id": "eace6b19",
   "metadata": {},
   "outputs": [],
   "source": [
    "# LOADING KSADS DATA\n",
    "\n",
    "def load_ksads_simple(release):\n",
    "\n",
    "    if release == '3':\n",
    "        path_to_ksads = path_to_ksads3_child\n",
    "        separator = '\\t'\n",
    "    elif release == '4':\n",
    "        path_to_ksads = path_to_ksads4_child\n",
    "        separator = '\\t'\n",
    "    elif release == '5':\n",
    "        path_to_ksads = path_to_ksads5_child\n",
    "        separator = ','        \n",
    "    \n",
    "    #load the initial table\n",
    "    ksads_data = pd.read_csv(path_to_ksads, sep=separator, header=0, low_memory=False)\n",
    "    ksads_data_bsl = ksads_data.loc[ksads_data.eventname == 'baseline_year_1_arm_1'].copy()\n",
    "    \n",
    "    return ksads_data_bsl"
   ]
  },
  {
   "cell_type": "code",
   "execution_count": 91,
   "id": "e66b887f",
   "metadata": {},
   "outputs": [],
   "source": [
    "data3 = load_ksads_simple(release='3')\n",
    "data4 = load_ksads_simple(release='4')\n",
    "data5 = load_ksads_simple(release='5')"
   ]
  },
  {
   "cell_type": "code",
   "execution_count": 116,
   "id": "49085b77",
   "metadata": {},
   "outputs": [],
   "source": [
    "# ------\n",
    "tmp3 = data3.loc[:,['src_subject_id']+depression_column_list]\n",
    "tmp5 = data5.loc[:,['src_subject_id']+depression_column_list]\n",
    "dep35 = tmp5.merge(tmp3, how='inner', on='src_subject_id', suffixes=['_5', '_3'])\n"
   ]
  },
  {
   "cell_type": "code",
   "execution_count": 120,
   "id": "e0ccbd16",
   "metadata": {},
   "outputs": [
    {
     "data": {
      "text/plain": [
       "src_subject_id      object\n",
       "ksads_1_840_t_5    float64\n",
       "ksads_1_841_t_5    float64\n",
       "ksads_1_843_t_5    float64\n",
       "ksads_1_844_t_5    float64\n",
       "ksads_1_846_t_5    float64\n",
       "ksads_1_840_t_3     object\n",
       "ksads_1_841_t_3     object\n",
       "ksads_1_843_t_3     object\n",
       "ksads_1_844_t_3     object\n",
       "ksads_1_846_t_3     object\n",
       "dtype: object"
      ]
     },
     "execution_count": 120,
     "metadata": {},
     "output_type": "execute_result"
    }
   ],
   "source": [
    "dep35.dtypes"
   ]
  },
  {
   "cell_type": "code",
   "execution_count": 124,
   "id": "ecb59d27",
   "metadata": {},
   "outputs": [
    {
     "name": "stdout",
     "output_type": "stream",
     "text": [
      "ksads_1_840_t\n",
      "0.9999152255001695\n",
      "ksads_1_841_t\n",
      "0.9999152255001695\n",
      "ksads_1_843_t\n",
      "0.9999152255001695\n",
      "ksads_1_844_t\n",
      "0.9999152255001695\n",
      "ksads_1_846_t\n",
      "0.9999152255001695\n"
     ]
    }
   ],
   "source": [
    "for diagn in depression_column_list:\n",
    "    print(diagn)\n",
    "    dep35[f\"{diagn}_3\"] = dep35[f\"{diagn}_3\"].astype(float)\n",
    "    print((dep35[f\"{diagn}_3\"]==dep35[f\"{diagn}_5\"]).mean())"
   ]
  },
  {
   "cell_type": "code",
   "execution_count": 125,
   "id": "e11b71ff",
   "metadata": {},
   "outputs": [],
   "source": [
    "dep35['mismatch'] = False \n",
    "for diagn in depression_column_list:\n",
    "    dep35.loc[dep35[f\"{diagn}_3\"]!=dep35[f\"{diagn}_5\"],'mismatch']=True"
   ]
  },
  {
   "cell_type": "code",
   "execution_count": 126,
   "id": "0b357af1",
   "metadata": {},
   "outputs": [
    {
     "data": {
      "text/html": [
       "<div>\n",
       "<style scoped>\n",
       "    .dataframe tbody tr th:only-of-type {\n",
       "        vertical-align: middle;\n",
       "    }\n",
       "\n",
       "    .dataframe tbody tr th {\n",
       "        vertical-align: top;\n",
       "    }\n",
       "\n",
       "    .dataframe thead th {\n",
       "        text-align: right;\n",
       "    }\n",
       "</style>\n",
       "<table border=\"1\" class=\"dataframe\">\n",
       "  <thead>\n",
       "    <tr style=\"text-align: right;\">\n",
       "      <th></th>\n",
       "      <th>src_subject_id</th>\n",
       "      <th>ksads_1_840_t_5</th>\n",
       "      <th>ksads_1_841_t_5</th>\n",
       "      <th>ksads_1_843_t_5</th>\n",
       "      <th>ksads_1_844_t_5</th>\n",
       "      <th>ksads_1_846_t_5</th>\n",
       "      <th>ksads_1_840_t_3</th>\n",
       "      <th>ksads_1_841_t_3</th>\n",
       "      <th>ksads_1_843_t_3</th>\n",
       "      <th>ksads_1_844_t_3</th>\n",
       "      <th>ksads_1_846_t_3</th>\n",
       "      <th>mismatch</th>\n",
       "    </tr>\n",
       "  </thead>\n",
       "  <tbody>\n",
       "    <tr>\n",
       "      <th>10202</th>\n",
       "      <td>NDAR_INVVGEWB754</td>\n",
       "      <td>0.0</td>\n",
       "      <td>0.0</td>\n",
       "      <td>0.0</td>\n",
       "      <td>0.0</td>\n",
       "      <td>0.0</td>\n",
       "      <td>555.0</td>\n",
       "      <td>555.0</td>\n",
       "      <td>555.0</td>\n",
       "      <td>555.0</td>\n",
       "      <td>555.0</td>\n",
       "      <td>True</td>\n",
       "    </tr>\n",
       "  </tbody>\n",
       "</table>\n",
       "</div>"
      ],
      "text/plain": [
       "         src_subject_id  ksads_1_840_t_5  ksads_1_841_t_5  ksads_1_843_t_5  \\\n",
       "10202  NDAR_INVVGEWB754              0.0              0.0              0.0   \n",
       "\n",
       "       ksads_1_844_t_5  ksads_1_846_t_5  ksads_1_840_t_3  ksads_1_841_t_3  \\\n",
       "10202              0.0              0.0            555.0            555.0   \n",
       "\n",
       "       ksads_1_843_t_3  ksads_1_844_t_3  ksads_1_846_t_3  mismatch  \n",
       "10202            555.0            555.0            555.0      True  "
      ]
     },
     "execution_count": 126,
     "metadata": {},
     "output_type": "execute_result"
    }
   ],
   "source": [
    "dep35.query('mismatch')"
   ]
  },
  {
   "cell_type": "code",
   "execution_count": 95,
   "id": "c3957601",
   "metadata": {},
   "outputs": [
    {
     "name": "stdout",
     "output_type": "stream",
     "text": [
      "\n",
      "\n",
      "DEPRESSION COLUMNS:\n",
      "\n",
      "\n",
      "Series([], Name: count, dtype: int64)\n",
      "\n",
      "\n",
      "Series([], Name: count, dtype: int64)\n",
      "\n",
      "\n",
      "Series([], Name: count, dtype: int64)\n",
      "\n",
      "\n",
      "Series([], Name: count, dtype: int64)\n",
      "\n",
      "\n",
      "Series([], Name: count, dtype: int64)\n"
     ]
    }
   ],
   "source": [
    "# we previously used ksads3 data. Ksads4 data is all nans:\n",
    "# data4.head(20)\n",
    "\n",
    "print('\\n\\nDEPRESSION COLUMNS:')\n",
    "for depression_diag in depression_column_list:\n",
    "    print('\\n')\n",
    "    print(data4[depression_diag].value_counts())"
   ]
  },
  {
   "cell_type": "code",
   "execution_count": 94,
   "id": "e9a66473",
   "metadata": {},
   "outputs": [],
   "source": [
    "#data3['ksads_dep_binary'].equals(data5['ksads_dep_binary'])"
   ]
  },
  {
   "cell_type": "code",
   "execution_count": 106,
   "id": "42584c02",
   "metadata": {},
   "outputs": [
    {
     "name": "stdout",
     "output_type": "stream",
     "text": [
      "\n",
      "\n",
      "DEPRESSION COLUMNS:\n",
      "\n",
      "\n",
      "ksads_1_840_t\n",
      "0.0    11730\n",
      "1.0       66\n",
      "Name: count, dtype: int64\n",
      "\n",
      "\n",
      "ksads_1_841_t\n",
      "0.0    11769\n",
      "1.0       27\n",
      "Name: count, dtype: int64\n",
      "\n",
      "\n",
      "ksads_1_843_t\n",
      "0.0    11796\n",
      "Name: count, dtype: int64\n",
      "\n",
      "\n",
      "ksads_1_844_t\n",
      "0.0    11796\n",
      "Name: count, dtype: int64\n",
      "\n",
      "\n",
      "ksads_1_846_t\n",
      "0.0    11768\n",
      "1.0       28\n",
      "Name: count, dtype: int64\n",
      "\n",
      "\n",
      "DEPRESSION COLUMNS:\n",
      "\n",
      "\n",
      "ksads_1_840_t\n",
      "0      11739\n",
      "555       73\n",
      "1         66\n",
      "Name: count, dtype: int64\n",
      "\n",
      "\n",
      "ksads_1_841_t\n",
      "0      11778\n",
      "555       73\n",
      "1         27\n",
      "Name: count, dtype: int64\n",
      "\n",
      "\n",
      "ksads_1_843_t\n",
      "0      11805\n",
      "555       73\n",
      "Name: count, dtype: int64\n",
      "\n",
      "\n",
      "ksads_1_844_t\n",
      "0      11805\n",
      "555       73\n",
      "Name: count, dtype: int64\n",
      "\n",
      "\n",
      "ksads_1_846_t\n",
      "0      11777\n",
      "555       73\n",
      "1         28\n",
      "Name: count, dtype: int64\n"
     ]
    }
   ],
   "source": [
    "# pull only positive cases from both datasets\n",
    "\n",
    "def pull_positives(dataset, depression_column_list):\n",
    "    # KSADS - only leave columns with name id and depression (anxiety, adhd)  diagnoses\n",
    "    col_list = ['src_subject_id']\n",
    "    col_list += depression_column_list\n",
    "    ksads_bsl_id_alldepandanx = dataset.loc[:, col_list]\n",
    "    print('\\n\\nDEPRESSION COLUMNS:')\n",
    "    for depression_diag in depression_column_list:\n",
    "        print('\\n')\n",
    "        print(ksads_bsl_id_alldepandanx[depression_diag].value_counts())\n",
    "    #print(ksads_bsl_id_alldepandanx.head())\n",
    "    ksads_bsl_id_alldepandanx = ksads_bsl_id_alldepandanx.set_index('src_subject_id')\n",
    "    ksads_bsl_id_alldepandanx = ksads_bsl_id_alldepandanx.astype(int)\n",
    "    ksads_bsl_id_alldepandanx['any_depression'] = (ksads_bsl_id_alldepandanx.loc[:, depression_column_list] > 0).sum(1) > 0\n",
    "    is_pos =  ksads_bsl_id_alldepandanx['any_depression']==1\n",
    "    pos_ksads_all = ksads_bsl_id_alldepandanx[is_pos]\n",
    "    return pos_ksads_all\n",
    "\n",
    "data5_posonly = pull_positives(data5, depression_column_list)\n",
    "data3_posonly = pull_positives(data3, depression_column_list)"
   ]
  },
  {
   "cell_type": "code",
   "execution_count": 97,
   "id": "b8fa0284",
   "metadata": {},
   "outputs": [
    {
     "name": "stdout",
     "output_type": "stream",
     "text": [
      "(120, 6)\n",
      "(193, 6)\n"
     ]
    }
   ],
   "source": [
    "print(data5_posonly.shape)\n",
    "print(data3_posonly.shape)"
   ]
  },
  {
   "cell_type": "code",
   "execution_count": 98,
   "id": "c5c05b6b",
   "metadata": {},
   "outputs": [],
   "source": [
    "# but I notice that data3 has nans while data5 doesn't\n",
    "# so I'm cleaning the nans next"
   ]
  },
  {
   "cell_type": "code",
   "execution_count": 99,
   "id": "af1f3517",
   "metadata": {},
   "outputs": [],
   "source": [
    "# clean nans in data3\n",
    "\n",
    "def clean_nans(dataset):\n",
    "    dataset[dataset > 1] = np.nan\n",
    "    nnans = dataset.isnull().sum(1)\n",
    "    bad_ids = nnans[nnans > 1].index\n",
    "    good_ids = nnans[nnans == 0].index\n",
    "    #print(good_ids)\n",
    "    ksads_dat = (dataset.loc[good_ids]) \n",
    "    return ksads_dat"
   ]
  },
  {
   "cell_type": "code",
   "execution_count": 100,
   "id": "e4201765",
   "metadata": {},
   "outputs": [],
   "source": [
    "data3_posonly_nonans = clean_nans(data3_posonly)"
   ]
  },
  {
   "cell_type": "code",
   "execution_count": 101,
   "id": "2b165a76",
   "metadata": {},
   "outputs": [],
   "source": [
    "mydata3 = data3_posonly_nonans\n",
    "mydata5 = data5_posonly"
   ]
  },
  {
   "cell_type": "code",
   "execution_count": 102,
   "id": "42c3664c",
   "metadata": {},
   "outputs": [
    {
     "name": "stdout",
     "output_type": "stream",
     "text": [
      "(120, 6)\n",
      "(120, 6)\n"
     ]
    }
   ],
   "source": [
    "# compare shapes\n",
    "print(mydata3.shape)\n",
    "print(mydata5.shape)\n",
    "\n",
    "# they are equal"
   ]
  },
  {
   "cell_type": "code",
   "execution_count": 103,
   "id": "b3469322",
   "metadata": {},
   "outputs": [
    {
     "data": {
      "text/plain": [
       "True"
      ]
     },
     "execution_count": 103,
     "metadata": {},
     "output_type": "execute_result"
    }
   ],
   "source": [
    "# compare subjects ids\n",
    "mydata3_ids = mydata3.index.values.tolist()\n",
    "mydata5_ids = mydata5.index.values.tolist()\n",
    "\n",
    "def compare(s, t):\n",
    "    return sorted(s) == sorted(t)\n",
    "\n",
    "compare(mydata3_ids, mydata5_ids)"
   ]
  },
  {
   "cell_type": "code",
   "execution_count": 104,
   "id": "3b8b5d5e",
   "metadata": {},
   "outputs": [
    {
     "name": "stdout",
     "output_type": "stream",
     "text": [
      "ksads_1_840_t\n",
      "True\n",
      "ksads_1_841_t\n",
      "True\n",
      "ksads_1_843_t\n",
      "True\n",
      "ksads_1_844_t\n",
      "True\n",
      "ksads_1_846_t\n",
      "True\n"
     ]
    }
   ],
   "source": [
    "# -------------------------------------------\n",
    "# now iterate through each specific diagnosis\n",
    "\n",
    "def is_pos(dataset, diagnosis):\n",
    "    is_pos = dataset[diagnosis] == 1\n",
    "    pos_all = dataset[is_pos]\n",
    "    return pos_all\n",
    "\n",
    "depression_column_list = [f'ksads_1_{x}_t' for x in [840, 841, 843, 844, 846]]\n",
    "for depression_diagnosis in depression_column_list:\n",
    "    print(depression_diagnosis)\n",
    "    diagnosis_pos_3 = is_pos(mydata3, depression_diagnosis)\n",
    "    diagnosis_pos_5 = is_pos(mydata5, depression_diagnosis)\n",
    "    mydata3_ids_diagnosis = diagnosis_pos_3.index.values.tolist()\n",
    "    mydata5_ids_diagnosis = diagnosis_pos_5.index.values.tolist()\n",
    "    print(compare(mydata3_ids_diagnosis, mydata5_ids_diagnosis))"
   ]
  },
  {
   "cell_type": "code",
   "execution_count": null,
   "id": "fb15673a",
   "metadata": {},
   "outputs": [],
   "source": [
    "#--------------- ksads2 diagnoses --------------#\n",
    "'''\n",
    "• DEPRESSION\n",
    "1. Major Depressive Disorder Present\n",
    "        abcd_ksad501: ksads_1_840_t\n",
    "        ksads2daic_use_only01: ksads2_1_790_t\n",
    "2. Major Depressive Disorder, Current, in Partial Remission\n",
    "        abcd_ksad501: ksads_1_841_t\n",
    "        ksads2daic_use_only01: ksads2_1_791_t\n",
    "3. Persistent Depressive Disorder (Dysthymia), Present\n",
    "        abcd_ksad501: ksads_1_843_t\n",
    "        ksads2daic_use_only01: ksads2_1_793_t\n",
    "4. Persistent Depressive Disorder (Dysthymia), In Partial Remission\n",
    "        abcd_ksad501: ksads_1_844_t\n",
    "        ksads2daic_use_only01: ksads2_1_794_t\n",
    "5. Unspecified Depressive Disorder, Current\n",
    "        abcd_ksad501: ksads_1_846_t\n",
    "        ksads2daic_use_only01: ksads2_1_796_t\n",
    "''''''"
   ]
  },
  {
   "cell_type": "code",
   "execution_count": 114,
   "id": "51c556dc",
   "metadata": {},
   "outputs": [
    {
     "name": "stdout",
     "output_type": "stream",
     "text": [
      "\n",
      "\n",
      "DEPRESSION COLUMNS:\n",
      "\n",
      "\n",
      "Series([], Name: count, dtype: int64)\n",
      "\n",
      "\n",
      "Series([], Name: count, dtype: int64)\n",
      "\n",
      "\n",
      "Series([], Name: count, dtype: int64)\n",
      "\n",
      "\n",
      "Series([], Name: count, dtype: int64)\n",
      "\n",
      "\n",
      "Series([], Name: count, dtype: int64)\n"
     ]
    }
   ],
   "source": [
    "diagnoses_ksads2 = ['ksads2_1_790_t', 'ksads2_1_791_t', 'ksads2_1_793_t', 'ksads2_1_794_t', 'ksads2_1_796_t']\n",
    "#diagnoses_of_interest = ['ksads_1_840_t', 'ksads2_1_790_t'] # MDD, Present\n",
    "\n",
    "def load_ksads2(dataset, diagnoses):\n",
    "    col_list = ['src_subject_id']\n",
    "    col_list += diagnoses\n",
    "    dataset1 = dataset.loc[:, col_list]\n",
    "    print('\\n\\nDEPRESSION COLUMNS:')\n",
    "    for depression_diag in diagnoses:\n",
    "        print('\\n')\n",
    "        print(dataset1[depression_diag].value_counts())\n",
    "    return dataset1\n",
    "\n",
    "data_ksads2_all = load_ksads2(data5, diagnoses_ksads2)"
   ]
  },
  {
   "cell_type": "code",
   "execution_count": 115,
   "id": "5c43ecf2",
   "metadata": {},
   "outputs": [
    {
     "data": {
      "text/html": [
       "<div>\n",
       "<style scoped>\n",
       "    .dataframe tbody tr th:only-of-type {\n",
       "        vertical-align: middle;\n",
       "    }\n",
       "\n",
       "    .dataframe tbody tr th {\n",
       "        vertical-align: top;\n",
       "    }\n",
       "\n",
       "    .dataframe thead th {\n",
       "        text-align: right;\n",
       "    }\n",
       "</style>\n",
       "<table border=\"1\" class=\"dataframe\">\n",
       "  <thead>\n",
       "    <tr style=\"text-align: right;\">\n",
       "      <th></th>\n",
       "      <th>ksads2_1_790_t</th>\n",
       "      <th>ksads2_1_791_t</th>\n",
       "      <th>ksads2_1_793_t</th>\n",
       "      <th>ksads2_1_794_t</th>\n",
       "      <th>ksads2_1_796_t</th>\n",
       "    </tr>\n",
       "  </thead>\n",
       "  <tbody>\n",
       "    <tr>\n",
       "      <th>0</th>\n",
       "      <td>NaN</td>\n",
       "      <td>NaN</td>\n",
       "      <td>NaN</td>\n",
       "      <td>NaN</td>\n",
       "      <td>NaN</td>\n",
       "    </tr>\n",
       "    <tr>\n",
       "      <th>4</th>\n",
       "      <td>NaN</td>\n",
       "      <td>NaN</td>\n",
       "      <td>NaN</td>\n",
       "      <td>NaN</td>\n",
       "      <td>NaN</td>\n",
       "    </tr>\n",
       "    <tr>\n",
       "      <th>8</th>\n",
       "      <td>NaN</td>\n",
       "      <td>NaN</td>\n",
       "      <td>NaN</td>\n",
       "      <td>NaN</td>\n",
       "      <td>NaN</td>\n",
       "    </tr>\n",
       "    <tr>\n",
       "      <th>11</th>\n",
       "      <td>NaN</td>\n",
       "      <td>NaN</td>\n",
       "      <td>NaN</td>\n",
       "      <td>NaN</td>\n",
       "      <td>NaN</td>\n",
       "    </tr>\n",
       "    <tr>\n",
       "      <th>14</th>\n",
       "      <td>NaN</td>\n",
       "      <td>NaN</td>\n",
       "      <td>NaN</td>\n",
       "      <td>NaN</td>\n",
       "      <td>NaN</td>\n",
       "    </tr>\n",
       "  </tbody>\n",
       "</table>\n",
       "</div>"
      ],
      "text/plain": [
       "    ksads2_1_790_t  ksads2_1_791_t  ksads2_1_793_t  ksads2_1_794_t  \\\n",
       "0              NaN             NaN             NaN             NaN   \n",
       "4              NaN             NaN             NaN             NaN   \n",
       "8              NaN             NaN             NaN             NaN   \n",
       "11             NaN             NaN             NaN             NaN   \n",
       "14             NaN             NaN             NaN             NaN   \n",
       "\n",
       "    ksads2_1_796_t  \n",
       "0              NaN  \n",
       "4              NaN  \n",
       "8              NaN  \n",
       "11             NaN  \n",
       "14             NaN  "
      ]
     },
     "execution_count": 115,
     "metadata": {},
     "output_type": "execute_result"
    }
   ],
   "source": [
    "data5.loc[:, ['ksads2_1_790_t', 'ksads2_1_791_t', 'ksads2_1_793_t', 'ksads2_1_794_t', 'ksads2_1_796_t']].head(5)"
   ]
  },
  {
   "cell_type": "code",
   "execution_count": null,
   "id": "e75d40a7",
   "metadata": {},
   "outputs": [],
   "source": [
    "['ksads2_1_790_p', 'ksads2_1_791_p', 'ksads2_1_793_p', 'ksads2_1_794_p', 'ksads2_1_796_p']"
   ]
  },
  {
   "cell_type": "code",
   "execution_count": null,
   "id": "0ae5bcb3",
   "metadata": {},
   "outputs": [],
   "source": []
  }
 ],
 "metadata": {
  "kernelspec": {
   "display_name": "Python 3 (ipykernel)",
   "language": "python",
   "name": "python3"
  },
  "language_info": {
   "codemirror_mode": {
    "name": "ipython",
    "version": 3
   },
   "file_extension": ".py",
   "mimetype": "text/x-python",
   "name": "python",
   "nbconvert_exporter": "python",
   "pygments_lexer": "ipython3",
   "version": "3.10.11"
  }
 },
 "nbformat": 4,
 "nbformat_minor": 5
}
